{
  "nbformat": 4,
  "nbformat_minor": 0,
  "metadata": {
    "colab": {
      "name": "SVM_Solutions",
      "provenance": [],
      "collapsed_sections": []
    },
    "kernelspec": {
      "display_name": "Python 3",
      "language": "python",
      "name": "python3"
    },
    "language_info": {
      "codemirror_mode": {
        "name": "ipython",
        "version": 3
      },
      "file_extension": ".py",
      "mimetype": "text/x-python",
      "name": "python",
      "nbconvert_exporter": "python",
      "pygments_lexer": "ipython3",
      "version": "3.7.3"
    }
  },
  "cells": [
    {
      "cell_type": "markdown",
      "metadata": {
        "colab_type": "text",
        "id": "-UimMCmGe19F"
      },
      "source": [
        "# SVM Solutions\n"
      ]
    },
    {
      "cell_type": "code",
      "metadata": {
        "colab_type": "code",
        "id": "kedW02LgKjVL",
        "colab": {}
      },
      "source": [
        "import numpy as np\n",
        "import pandas as pd\n",
        "from sklearn.model_selection import train_test_split\n",
        "import matplotlib.pyplot as plt\n",
        "\n",
        "from sklearn import svm\n",
        "from sklearn.metrics import accuracy_score\n",
        "from sklearn.svm import SVC\n",
        "from sklearn import metrics"
      ],
      "execution_count": 1,
      "outputs": []
    },
    {
      "cell_type": "markdown",
      "metadata": {
        "colab_type": "text",
        "id": "rz35eT5-SMht"
      },
      "source": [
        "Load Pima diabetes dataset"
      ]
    },
    {
      "cell_type": "code",
      "metadata": {
        "colab_type": "code",
        "id": "Ydh9gmDkMGmu",
        "colab": {
          "base_uri": "https://localhost:8080/",
          "height": 206
        },
        "outputId": "120ff1ef-0903-44a8-e6f6-9901f1722d20"
      },
      "source": [
        "url = \"https://raw.githubusercontent.com/BeaverWorksMedlytics2020/Data_Public/master/NotebookExampleData/Week1/diabetes.csv\"\n",
        "names = ['preg', 'plas', 'pres', 'skin', 'test', 'mass', 'pedi', 'age', 'class']\n",
        "\n",
        "# YOUR CODE HERE\n",
        "\n",
        "data = pd.read_csv(url, names=names)\n",
        "\n",
        "# Drop NaN rows\n",
        "invalid = ['plas', 'pres', 'skin', 'test', 'mass']\n",
        "\n",
        "for i in invalid:\n",
        "    data[i].replace(to_replace=0, value=np.nan, inplace=True)\n",
        "    \n",
        "data = data.dropna(axis=0).reset_index(drop=True)\n",
        "\n",
        "data.head()"
      ],
      "execution_count": 2,
      "outputs": [
        {
          "output_type": "execute_result",
          "data": {
            "text/html": [
              "<div>\n",
              "<style scoped>\n",
              "    .dataframe tbody tr th:only-of-type {\n",
              "        vertical-align: middle;\n",
              "    }\n",
              "\n",
              "    .dataframe tbody tr th {\n",
              "        vertical-align: top;\n",
              "    }\n",
              "\n",
              "    .dataframe thead th {\n",
              "        text-align: right;\n",
              "    }\n",
              "</style>\n",
              "<table border=\"1\" class=\"dataframe\">\n",
              "  <thead>\n",
              "    <tr style=\"text-align: right;\">\n",
              "      <th></th>\n",
              "      <th>preg</th>\n",
              "      <th>plas</th>\n",
              "      <th>pres</th>\n",
              "      <th>skin</th>\n",
              "      <th>test</th>\n",
              "      <th>mass</th>\n",
              "      <th>pedi</th>\n",
              "      <th>age</th>\n",
              "      <th>class</th>\n",
              "    </tr>\n",
              "  </thead>\n",
              "  <tbody>\n",
              "    <tr>\n",
              "      <th>0</th>\n",
              "      <td>1</td>\n",
              "      <td>89.0</td>\n",
              "      <td>66.0</td>\n",
              "      <td>23.0</td>\n",
              "      <td>94.0</td>\n",
              "      <td>28.1</td>\n",
              "      <td>0.167</td>\n",
              "      <td>21</td>\n",
              "      <td>0</td>\n",
              "    </tr>\n",
              "    <tr>\n",
              "      <th>1</th>\n",
              "      <td>0</td>\n",
              "      <td>137.0</td>\n",
              "      <td>40.0</td>\n",
              "      <td>35.0</td>\n",
              "      <td>168.0</td>\n",
              "      <td>43.1</td>\n",
              "      <td>2.288</td>\n",
              "      <td>33</td>\n",
              "      <td>1</td>\n",
              "    </tr>\n",
              "    <tr>\n",
              "      <th>2</th>\n",
              "      <td>3</td>\n",
              "      <td>78.0</td>\n",
              "      <td>50.0</td>\n",
              "      <td>32.0</td>\n",
              "      <td>88.0</td>\n",
              "      <td>31.0</td>\n",
              "      <td>0.248</td>\n",
              "      <td>26</td>\n",
              "      <td>1</td>\n",
              "    </tr>\n",
              "    <tr>\n",
              "      <th>3</th>\n",
              "      <td>2</td>\n",
              "      <td>197.0</td>\n",
              "      <td>70.0</td>\n",
              "      <td>45.0</td>\n",
              "      <td>543.0</td>\n",
              "      <td>30.5</td>\n",
              "      <td>0.158</td>\n",
              "      <td>53</td>\n",
              "      <td>1</td>\n",
              "    </tr>\n",
              "    <tr>\n",
              "      <th>4</th>\n",
              "      <td>1</td>\n",
              "      <td>189.0</td>\n",
              "      <td>60.0</td>\n",
              "      <td>23.0</td>\n",
              "      <td>846.0</td>\n",
              "      <td>30.1</td>\n",
              "      <td>0.398</td>\n",
              "      <td>59</td>\n",
              "      <td>1</td>\n",
              "    </tr>\n",
              "  </tbody>\n",
              "</table>\n",
              "</div>"
            ],
            "text/plain": [
              "   preg   plas  pres  skin   test  mass   pedi  age  class\n",
              "0     1   89.0  66.0  23.0   94.0  28.1  0.167   21      0\n",
              "1     0  137.0  40.0  35.0  168.0  43.1  2.288   33      1\n",
              "2     3   78.0  50.0  32.0   88.0  31.0  0.248   26      1\n",
              "3     2  197.0  70.0  45.0  543.0  30.5  0.158   53      1\n",
              "4     1  189.0  60.0  23.0  846.0  30.1  0.398   59      1"
            ]
          },
          "metadata": {
            "tags": []
          },
          "execution_count": 2
        }
      ]
    },
    {
      "cell_type": "markdown",
      "metadata": {
        "colab_type": "text",
        "id": "OVd3yPrQ3LDG"
      },
      "source": [
        "Split data into training, validation, and test sets with a test size of 25%"
      ]
    },
    {
      "cell_type": "code",
      "metadata": {
        "colab_type": "code",
        "id": "kOR7RCrf5P_k",
        "colab": {}
      },
      "source": [
        "# YOUR CODE HERE\n",
        "\n",
        "X_cols = ['preg', 'plas', 'pres', 'skin', 'test', 'mass', 'pedi', 'age']\n",
        "y_col = 'class'\n",
        "\n",
        "test_size = 0.25\n",
        "\n",
        "X_train, X_test, y_train, y_test = train_test_split(data[X_cols], data[y_col], test_size=test_size, random_state=0)\n",
        "\n",
        "X_train, X_val, y_train, y_val = train_test_split(X_train, y_train, test_size=test_size, random_state=0)"
      ],
      "execution_count": 3,
      "outputs": []
    },
    {
      "cell_type": "markdown",
      "metadata": {
        "colab_type": "text",
        "id": "v7lQh69N3YR3"
      },
      "source": [
        "Create a model with sklearn's SVC and a high gamma value (perhaps 1.0)"
      ]
    },
    {
      "cell_type": "code",
      "metadata": {
        "colab_type": "code",
        "id": "9rYQecrQ8yjn",
        "colab": {
          "base_uri": "https://localhost:8080/",
          "height": 92
        },
        "outputId": "08b9ee21-28a8-40c0-cb5c-c0d3065be391"
      },
      "source": [
        "# YOUR CODE HERE\n",
        "\n",
        "svm_high = SVC(gamma=1)\n",
        "svm_high.fit(X_train, y_train)"
      ],
      "execution_count": 4,
      "outputs": [
        {
          "output_type": "execute_result",
          "data": {
            "text/plain": [
              "SVC(C=1.0, break_ties=False, cache_size=200, class_weight=None, coef0=0.0,\n",
              "    decision_function_shape='ovr', degree=3, gamma=1, kernel='rbf', max_iter=-1,\n",
              "    probability=False, random_state=None, shrinking=True, tol=0.001,\n",
              "    verbose=False)"
            ]
          },
          "metadata": {
            "tags": []
          },
          "execution_count": 4
        }
      ]
    },
    {
      "cell_type": "markdown",
      "metadata": {
        "colab_type": "text",
        "id": "qdiqjUje4ll-"
      },
      "source": [
        "Print accuracy of training and validation data"
      ]
    },
    {
      "cell_type": "code",
      "metadata": {
        "colab_type": "code",
        "id": "O5LqepHk9S0M",
        "colab": {
          "base_uri": "https://localhost:8080/",
          "height": 54
        },
        "outputId": "6514abc4-edde-428f-b87c-6304e44c99c4"
      },
      "source": [
        "# YOUR CODE HERE\n",
        "\n",
        "y_train_high_pred=svm_high.predict(X_train)\n",
        "print(\"Training Accuracy is \", accuracy_score(y_train, y_train_high_pred)*100)\n",
        "y_val_high_pred=svm_high.predict(X_val)\n",
        "print(\"Validation Accuracy is \", accuracy_score(y_val,y_val_high_pred)*100)"
      ],
      "execution_count": 5,
      "outputs": [
        {
          "output_type": "stream",
          "text": [
            "Training Accuracy is  100.0\n",
            "Validation Accuracy is  67.56756756756756\n"
          ],
          "name": "stdout"
        }
      ]
    },
    {
      "cell_type": "markdown",
      "metadata": {
        "colab_type": "text",
        "id": "fC7VlLtI3ZjQ"
      },
      "source": [
        "Create a model with sklearn's SVC and a high low value (perhaps .001)"
      ]
    },
    {
      "cell_type": "code",
      "metadata": {
        "colab_type": "code",
        "id": "3vVHnWuY9pFN",
        "colab": {
          "base_uri": "https://localhost:8080/",
          "height": 92
        },
        "outputId": "b489241f-81f1-437e-86a6-ede3f069f593"
      },
      "source": [
        "# YOUR CODE HERE\n",
        "\n",
        "svm_low = SVC(gamma=.001)\n",
        "svm_low.fit(X_train, y_train)"
      ],
      "execution_count": 6,
      "outputs": [
        {
          "output_type": "execute_result",
          "data": {
            "text/plain": [
              "SVC(C=1.0, break_ties=False, cache_size=200, class_weight=None, coef0=0.0,\n",
              "    decision_function_shape='ovr', degree=3, gamma=0.001, kernel='rbf',\n",
              "    max_iter=-1, probability=False, random_state=None, shrinking=True,\n",
              "    tol=0.001, verbose=False)"
            ]
          },
          "metadata": {
            "tags": []
          },
          "execution_count": 6
        }
      ]
    },
    {
      "cell_type": "markdown",
      "metadata": {
        "colab_type": "text",
        "id": "JQB-U50H4mIx"
      },
      "source": [
        "Print accuracy of training and validation data"
      ]
    },
    {
      "cell_type": "code",
      "metadata": {
        "colab_type": "code",
        "id": "tr4DGB309s9a",
        "colab": {
          "base_uri": "https://localhost:8080/",
          "height": 54
        },
        "outputId": "571a551d-e42c-44d6-ec82-4e1ecfc2981a"
      },
      "source": [
        "# YOUR CODE HERE\n",
        "\n",
        "y_train_low_pred=svm_low.predict(X_train)\n",
        "print(\"Training Accuracy is \", accuracy_score(y_train, y_train_low_pred)*100)\n",
        "y_val_low_pred=svm_low.predict(X_val)\n",
        "print(\"Validation Accuracy is \", accuracy_score(y_val,y_val_low_pred)*100)"
      ],
      "execution_count": 7,
      "outputs": [
        {
          "output_type": "stream",
          "text": [
            "Training Accuracy is  87.27272727272727\n",
            "Validation Accuracy is  74.32432432432432\n"
          ],
          "name": "stdout"
        }
      ]
    },
    {
      "cell_type": "markdown",
      "metadata": {
        "colab_type": "text",
        "id": "TA9xLHAEIKXY"
      },
      "source": [
        "Explain the accuracy results below. "
      ]
    },
    {
      "cell_type": "markdown",
      "metadata": {
        "colab_type": "text",
        "id": "fE_bPc2KISFi"
      },
      "source": [
        "(YOUR ANSWER HERE) \n",
        "<br></br>\n",
        "high gamma value overfit on the training data\n",
        "but low gamma value performed better on validation set"
      ]
    },
    {
      "cell_type": "markdown",
      "metadata": {
        "id": "NurI1S3g0ruz",
        "colab_type": "text"
      },
      "source": [
        "Print the confusion matrices for your high and low gamma models (both numeric and visualized)"
      ]
    },
    {
      "cell_type": "code",
      "metadata": {
        "id": "KBiBqh_q0ru0",
        "colab_type": "code",
        "colab": {}
      },
      "source": [
        "# Visualize the confusion matrix\n",
        "def plot_cmatrix(cm,labels,title='Confusion Matrix'):\n",
        "    fig = plt.figure()\n",
        "    ax = fig.add_subplot(111)\n",
        "    cax = ax.matshow(cm,cmap='BuPu')\n",
        "    plt.title('\\n'+title+'\\n', fontsize=20)\n",
        "    fig.colorbar(cax)\n",
        "    ax.set_xticklabels([''] + labels, fontsize=16)\n",
        "    ax.set_yticklabels([''] + labels, fontsize=16)\n",
        "    plt.xlabel('Predicted', fontsize=16)\n",
        "    plt.ylabel('True', fontsize=16)\n",
        "    plt.show()"
      ],
      "execution_count": 8,
      "outputs": []
    },
    {
      "cell_type": "code",
      "metadata": {
        "id": "-lFy6ZN70ru4",
        "colab_type": "code",
        "colab": {
          "base_uri": "https://localhost:8080/",
          "height": 744
        },
        "outputId": "251c5844-3294-464d-fbb8-6d2475b159f8"
      },
      "source": [
        "# Confusion matrices\n",
        "\n",
        "# Normalized confusion matrix (high gamma)\n",
        "cm_high = metrics.confusion_matrix(y_val, y_val_high_pred, [0,1])\n",
        "cm_high_norm = cm_high.astype('float') / cm_high.sum(axis=1)[:, np.newaxis]\n",
        "plot_cmatrix(cm_high,[0,1],title='Normalized Confusion Matrix (high)')\n",
        "print(cm_high_norm)\n",
        "\n",
        "# Normalized confusion matrix (low gamma)\n",
        "cm_low = metrics.confusion_matrix(y_val, y_val_low_pred, [0,1])\n",
        "cm_low_norm = cm_low.astype('float') / cm_low.sum(axis=1)[:, np.newaxis]\n",
        "plot_cmatrix(cm_low,[0,1],title='Normalized Confusion Matrix (low)')\n",
        "print(cm_low_norm)"
      ],
      "execution_count": 9,
      "outputs": [
        {
          "output_type": "display_data",
          "data": {
            "image/png": "[encoded data removed]",
            "text/plain": [
              "<Figure size 432x288 with 2 Axes>"
            ]
          },
          "metadata": {
            "tags": [],
            "needs_background": "light"
          }
        },
        {
          "output_type": "stream",
          "text": [
            "[[1. 0.]\n",
            " [1. 0.]]\n"
          ],
          "name": "stdout"
        },
        {
          "output_type": "display_data",
          "data": {
            "image/png": "[encoded data removed]",
            "text/plain": [
              "<Figure size 432x288 with 2 Axes>"
            ]
          },
          "metadata": {
            "tags": [],
            "needs_background": "light"
          }
        },
        {
          "output_type": "stream",
          "text": [
            "[[0.96       0.04      ]\n",
            " [0.70833333 0.29166667]]\n"
          ],
          "name": "stdout"
        }
      ]
    }
  ]
}
